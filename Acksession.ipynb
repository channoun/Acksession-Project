{
  "cells": [
    {
      "cell_type": "code",
      "execution_count": 1,
      "metadata": {
        "colab": {
          "base_uri": "https://localhost:8080/",
          "height": 1000
        },
        "id": "h_mEF8aD2ouF",
        "outputId": "57f57e8f-9488-49b8-bb6a-1d99632bb9bc"
      },
      "outputs": [
        {
          "name": "stdout",
          "output_type": "stream",
          "text": [
            "Requirement already satisfied: roboflow in c:\\users\\user\\appdata\\local\\packages\\pythonsoftwarefoundation.python.3.9_qbz5n2kfra8p0\\localcache\\local-packages\\python39\\site-packages (1.1.30)\n",
            "Collecting ultralytics\n",
            "  Downloading ultralytics-8.2.28-py3-none-any.whl (779 kB)\n",
            "Requirement already satisfied: tqdm>=4.41.0 in c:\\users\\user\\appdata\\local\\packages\\pythonsoftwarefoundation.python.3.9_qbz5n2kfra8p0\\localcache\\local-packages\\python39\\site-packages (from roboflow) (4.64.0)\n",
            "Requirement already satisfied: kiwisolver>=1.3.1 in c:\\users\\user\\appdata\\local\\packages\\pythonsoftwarefoundation.python.3.9_qbz5n2kfra8p0\\localcache\\local-packages\\python39\\site-packages (from roboflow) (1.3.2)\n",
            "Requirement already satisfied: six in c:\\users\\user\\appdata\\local\\packages\\pythonsoftwarefoundation.python.3.9_qbz5n2kfra8p0\\localcache\\local-packages\\python39\\site-packages (from roboflow) (1.16.0)\n",
            "Requirement already satisfied: opencv-python-headless==4.8.0.74 in c:\\users\\user\\appdata\\local\\packages\\pythonsoftwarefoundation.python.3.9_qbz5n2kfra8p0\\localcache\\local-packages\\python39\\site-packages (from roboflow) (4.8.0.74)\n",
            "Requirement already satisfied: cycler==0.10.0 in c:\\users\\user\\appdata\\local\\packages\\pythonsoftwarefoundation.python.3.9_qbz5n2kfra8p0\\localcache\\local-packages\\python39\\site-packages (from roboflow) (0.10.0)\n",
            "Requirement already satisfied: python-dateutil in c:\\users\\user\\appdata\\local\\packages\\pythonsoftwarefoundation.python.3.9_qbz5n2kfra8p0\\localcache\\local-packages\\python39\\site-packages (from roboflow) (2.8.1)\n",
            "Requirement already satisfied: python-dotenv in c:\\users\\user\\appdata\\local\\packages\\pythonsoftwarefoundation.python.3.9_qbz5n2kfra8p0\\localcache\\local-packages\\python39\\site-packages (from roboflow) (0.16.0)\n",
            "Requirement already satisfied: PyYAML>=5.3.1 in c:\\users\\user\\appdata\\local\\packages\\pythonsoftwarefoundation.python.3.9_qbz5n2kfra8p0\\localcache\\local-packages\\python39\\site-packages (from roboflow) (5.4.1)\n",
            "Requirement already satisfied: requests-toolbelt in c:\\users\\user\\appdata\\local\\packages\\pythonsoftwarefoundation.python.3.9_qbz5n2kfra8p0\\localcache\\local-packages\\python39\\site-packages (from roboflow) (1.0.0)\n",
            "Requirement already satisfied: python-magic in c:\\users\\user\\appdata\\local\\packages\\pythonsoftwarefoundation.python.3.9_qbz5n2kfra8p0\\localcache\\local-packages\\python39\\site-packages (from roboflow) (0.4.27)\n",
            "Requirement already satisfied: chardet==4.0.0 in c:\\users\\user\\appdata\\local\\packages\\pythonsoftwarefoundation.python.3.9_qbz5n2kfra8p0\\localcache\\local-packages\\python39\\site-packages (from roboflow) (4.0.0)\n",
            "Requirement already satisfied: urllib3>=1.26.6 in c:\\users\\user\\appdata\\local\\packages\\pythonsoftwarefoundation.python.3.9_qbz5n2kfra8p0\\localcache\\local-packages\\python39\\site-packages (from roboflow) (1.26.9)\n",
            "Requirement already satisfied: matplotlib in c:\\users\\user\\appdata\\local\\packages\\pythonsoftwarefoundation.python.3.9_qbz5n2kfra8p0\\localcache\\local-packages\\python39\\site-packages (from roboflow) (3.4.3)\n",
            "Requirement already satisfied: idna==2.10 in c:\\users\\user\\appdata\\local\\packages\\pythonsoftwarefoundation.python.3.9_qbz5n2kfra8p0\\localcache\\local-packages\\python39\\site-packages (from roboflow) (2.10)\n",
            "Requirement already satisfied: certifi==2023.7.22 in c:\\users\\user\\appdata\\local\\packages\\pythonsoftwarefoundation.python.3.9_qbz5n2kfra8p0\\localcache\\local-packages\\python39\\site-packages (from roboflow) (2023.7.22)\n",
            "Requirement already satisfied: numpy>=1.18.5 in c:\\users\\user\\appdata\\local\\packages\\pythonsoftwarefoundation.python.3.9_qbz5n2kfra8p0\\localcache\\local-packages\\python39\\site-packages (from roboflow) (1.20.0)\n",
            "Requirement already satisfied: requests in c:\\users\\user\\appdata\\local\\packages\\pythonsoftwarefoundation.python.3.9_qbz5n2kfra8p0\\localcache\\local-packages\\python39\\site-packages (from roboflow) (2.27.1)\n",
            "Requirement already satisfied: Pillow>=7.1.2 in c:\\users\\user\\appdata\\local\\packages\\pythonsoftwarefoundation.python.3.9_qbz5n2kfra8p0\\localcache\\local-packages\\python39\\site-packages (from roboflow) (10.3.0)\n",
            "Requirement already satisfied: colorama in c:\\users\\user\\appdata\\local\\packages\\pythonsoftwarefoundation.python.3.9_qbz5n2kfra8p0\\localcache\\local-packages\\python39\\site-packages (from tqdm>=4.41.0->roboflow) (0.4.4)\n",
            "Requirement already satisfied: torchvision>=0.9.0 in c:\\users\\user\\appdata\\local\\packages\\pythonsoftwarefoundation.python.3.9_qbz5n2kfra8p0\\localcache\\local-packages\\python39\\site-packages (from ultralytics) (0.18.0)\n",
            "Requirement already satisfied: scipy>=1.4.1 in c:\\users\\user\\appdata\\local\\packages\\pythonsoftwarefoundation.python.3.9_qbz5n2kfra8p0\\localcache\\local-packages\\python39\\site-packages (from ultralytics) (1.7.1)\n",
            "Collecting torch>=1.8.0\n",
            "  Using cached torch-2.3.0-cp39-cp39-win_amd64.whl (159.7 MB)\n",
            "Requirement already satisfied: psutil in c:\\users\\user\\appdata\\local\\packages\\pythonsoftwarefoundation.python.3.9_qbz5n2kfra8p0\\localcache\\local-packages\\python39\\site-packages (from ultralytics) (5.9.0)\n",
            "Requirement already satisfied: opencv-python>=4.6.0 in c:\\users\\user\\appdata\\local\\packages\\pythonsoftwarefoundation.python.3.9_qbz5n2kfra8p0\\localcache\\local-packages\\python39\\site-packages (from ultralytics) (4.7.0.68)\n",
            "Requirement already satisfied: pandas>=1.1.4 in c:\\users\\user\\appdata\\local\\packages\\pythonsoftwarefoundation.python.3.9_qbz5n2kfra8p0\\localcache\\local-packages\\python39\\site-packages (from ultralytics) (1.3.3)\n",
            "Requirement already satisfied: py-cpuinfo in c:\\users\\user\\appdata\\local\\packages\\pythonsoftwarefoundation.python.3.9_qbz5n2kfra8p0\\localcache\\local-packages\\python39\\site-packages (from ultralytics) (9.0.0)\n",
            "Collecting ultralytics-thop>=0.2.5\n",
            "  Downloading ultralytics_thop-0.2.7-py3-none-any.whl (25 kB)\n",
            "Requirement already satisfied: seaborn>=0.11.0 in c:\\users\\user\\appdata\\local\\packages\\pythonsoftwarefoundation.python.3.9_qbz5n2kfra8p0\\localcache\\local-packages\\python39\\site-packages (from ultralytics) (0.11.2)\n",
            "Requirement already satisfied: pyparsing>=2.2.1 in c:\\users\\user\\appdata\\local\\packages\\pythonsoftwarefoundation.python.3.9_qbz5n2kfra8p0\\localcache\\local-packages\\python39\\site-packages (from matplotlib->roboflow) (3.0.9)\n",
            "Requirement already satisfied: pytz>=2017.3 in c:\\users\\user\\appdata\\local\\packages\\pythonsoftwarefoundation.python.3.9_qbz5n2kfra8p0\\localcache\\local-packages\\python39\\site-packages (from pandas>=1.1.4->ultralytics) (2021.3)\n",
            "Requirement already satisfied: charset-normalizer~=2.0.0 in c:\\users\\user\\appdata\\local\\packages\\pythonsoftwarefoundation.python.3.9_qbz5n2kfra8p0\\localcache\\local-packages\\python39\\site-packages (from requests->roboflow) (2.0.12)\n",
            "Requirement already satisfied: fsspec in c:\\users\\user\\appdata\\local\\packages\\pythonsoftwarefoundation.python.3.9_qbz5n2kfra8p0\\localcache\\local-packages\\python39\\site-packages (from torch>=1.8.0->ultralytics) (2024.5.0)\n",
            "Requirement already satisfied: sympy in c:\\users\\user\\appdata\\local\\packages\\pythonsoftwarefoundation.python.3.9_qbz5n2kfra8p0\\localcache\\local-packages\\python39\\site-packages (from torch>=1.8.0->ultralytics) (1.12.1)\n",
            "Requirement already satisfied: mkl<=2021.4.0,>=2021.1.1 in c:\\users\\user\\appdata\\local\\packages\\pythonsoftwarefoundation.python.3.9_qbz5n2kfra8p0\\localcache\\local-packages\\python39\\site-packages (from torch>=1.8.0->ultralytics) (2021.4.0)\n",
            "Requirement already satisfied: filelock in c:\\users\\user\\appdata\\local\\packages\\pythonsoftwarefoundation.python.3.9_qbz5n2kfra8p0\\localcache\\local-packages\\python39\\site-packages (from torch>=1.8.0->ultralytics) (3.6.0)\n",
            "Requirement already satisfied: jinja2 in c:\\users\\user\\appdata\\local\\packages\\pythonsoftwarefoundation.python.3.9_qbz5n2kfra8p0\\localcache\\local-packages\\python39\\site-packages (from torch>=1.8.0->ultralytics) (3.1.2)\n",
            "Requirement already satisfied: typing-extensions>=4.8.0 in c:\\users\\user\\appdata\\local\\packages\\pythonsoftwarefoundation.python.3.9_qbz5n2kfra8p0\\localcache\\local-packages\\python39\\site-packages (from torch>=1.8.0->ultralytics) (4.9.0)\n",
            "Requirement already satisfied: networkx in c:\\users\\user\\appdata\\local\\packages\\pythonsoftwarefoundation.python.3.9_qbz5n2kfra8p0\\localcache\\local-packages\\python39\\site-packages (from torch>=1.8.0->ultralytics) (3.2.1)\n",
            "Requirement already satisfied: tbb==2021.* in c:\\users\\user\\appdata\\local\\packages\\pythonsoftwarefoundation.python.3.9_qbz5n2kfra8p0\\localcache\\local-packages\\python39\\site-packages (from mkl<=2021.4.0,>=2021.1.1->torch>=1.8.0->ultralytics) (2021.12.0)\n",
            "Requirement already satisfied: intel-openmp==2021.* in c:\\users\\user\\appdata\\local\\packages\\pythonsoftwarefoundation.python.3.9_qbz5n2kfra8p0\\localcache\\local-packages\\python39\\site-packages (from mkl<=2021.4.0,>=2021.1.1->torch>=1.8.0->ultralytics) (2021.4.0)\n",
            "Requirement already satisfied: MarkupSafe>=2.0 in c:\\users\\user\\appdata\\local\\packages\\pythonsoftwarefoundation.python.3.9_qbz5n2kfra8p0\\localcache\\local-packages\\python39\\site-packages (from jinja2->torch>=1.8.0->ultralytics) (2.1.3)\n",
            "Requirement already satisfied: mpmath<1.4.0,>=1.1.0 in c:\\users\\user\\appdata\\local\\packages\\pythonsoftwarefoundation.python.3.9_qbz5n2kfra8p0\\localcache\\local-packages\\python39\\site-packages (from sympy->torch>=1.8.0->ultralytics) (1.3.0)\n",
            "Installing collected packages: torch, ultralytics-thop, ultralytics\n",
            "Successfully installed torch-2.3.0 ultralytics-8.2.28 ultralytics-thop-0.2.7\n",
            "Note: you may need to restart the kernel to use updated packages.\n"
          ]
        },
        {
          "name": "stderr",
          "output_type": "stream",
          "text": [
            "WARNING: You are using pip version 20.3.4; however, version 24.0 is available.\n",
            "You should consider upgrading via the 'C:\\Users\\User\\AppData\\Local\\Microsoft\\WindowsApps\\PythonSoftwareFoundation.Python.3.9_qbz5n2kfra8p0\\python.exe -m pip install --upgrade pip' command.\n"
          ]
        }
      ],
      "source": [
        "%pip install roboflow ultralytics"
      ]
    },
    {
      "cell_type": "code",
      "execution_count": 2,
      "metadata": {
        "id": "0aVkdx4C1-JG"
      },
      "outputs": [
        {
          "name": "stderr",
          "output_type": "stream",
          "text": [
            "C:\\Users\\User\\AppData\\Local\\Packages\\PythonSoftwareFoundation.Python.3.9_qbz5n2kfra8p0\\LocalCache\\local-packages\\Python39\\site-packages\\numpy\\_distributor_init.py:30: UserWarning: loaded more than 1 DLL from .libs:\n",
            "C:\\Users\\User\\AppData\\Local\\Packages\\PythonSoftwareFoundation.Python.3.9_qbz5n2kfra8p0\\LocalCache\\local-packages\\Python39\\site-packages\\numpy\\.libs\\libopenblas.4SP5SUA7CBGXUEOC35YP2ASOICYYEQZZ.gfortran-win_amd64.dll\n",
            "C:\\Users\\User\\AppData\\Local\\Packages\\PythonSoftwareFoundation.Python.3.9_qbz5n2kfra8p0\\LocalCache\\local-packages\\Python39\\site-packages\\numpy\\.libs\\libopenblas.WCDJNK7YVMPZQ2ME2ZZHJJRJ3JIKNDB7.gfortran-win_amd64.dll\n",
            "  warnings.warn(\"loaded more than 1 DLL from .libs:\"\n"
          ]
        },
        {
          "ename": "OSError",
          "evalue": "[WinError 126] The specified module could not be found. Error loading \"C:\\Users\\User\\AppData\\Local\\Packages\\PythonSoftwareFoundation.Python.3.9_qbz5n2kfra8p0\\LocalCache\\local-packages\\Python39\\site-packages\\torch\\lib\\shm.dll\" or one of its dependencies.",
          "output_type": "error",
          "traceback": [
            "\u001b[1;31m---------------------------------------------------------------------------\u001b[0m",
            "\u001b[1;31mOSError\u001b[0m                                   Traceback (most recent call last)",
            "\u001b[1;32m~\\AppData\\Local\\Temp/ipykernel_1672/2072571910.py\u001b[0m in \u001b[0;36m<module>\u001b[1;34m\u001b[0m\n\u001b[0;32m      1\u001b[0m \u001b[1;32mfrom\u001b[0m \u001b[0mroboflow\u001b[0m \u001b[1;32mimport\u001b[0m \u001b[0mRoboflow\u001b[0m\u001b[1;33m\u001b[0m\u001b[1;33m\u001b[0m\u001b[0m\n\u001b[1;32m----> 2\u001b[1;33m \u001b[1;32mfrom\u001b[0m \u001b[0multralytics\u001b[0m \u001b[1;32mimport\u001b[0m \u001b[0mYOLO\u001b[0m\u001b[1;33m\u001b[0m\u001b[1;33m\u001b[0m\u001b[0m\n\u001b[0m\u001b[0;32m      3\u001b[0m \u001b[1;33m\u001b[0m\u001b[0m\n\u001b[0;32m      4\u001b[0m \u001b[1;32mimport\u001b[0m \u001b[0mos\u001b[0m\u001b[1;33m\u001b[0m\u001b[1;33m\u001b[0m\u001b[0m\n\u001b[0;32m      5\u001b[0m \u001b[1;32mimport\u001b[0m \u001b[0mjson\u001b[0m\u001b[1;33m\u001b[0m\u001b[1;33m\u001b[0m\u001b[0m\n",
            "\u001b[1;32m~\\AppData\\Local\\Packages\\PythonSoftwareFoundation.Python.3.9_qbz5n2kfra8p0\\LocalCache\\local-packages\\Python39\\site-packages\\ultralytics\\__init__.py\u001b[0m in \u001b[0;36m<module>\u001b[1;34m\u001b[0m\n\u001b[0;32m      8\u001b[0m \u001b[0mos\u001b[0m\u001b[1;33m.\u001b[0m\u001b[0menviron\u001b[0m\u001b[1;33m[\u001b[0m\u001b[1;34m\"OMP_NUM_THREADS\"\u001b[0m\u001b[1;33m]\u001b[0m \u001b[1;33m=\u001b[0m \u001b[1;34m\"1\"\u001b[0m  \u001b[1;31m# reduce CPU utilization during training\u001b[0m\u001b[1;33m\u001b[0m\u001b[1;33m\u001b[0m\u001b[0m\n\u001b[0;32m      9\u001b[0m \u001b[1;33m\u001b[0m\u001b[0m\n\u001b[1;32m---> 10\u001b[1;33m \u001b[1;32mfrom\u001b[0m \u001b[0multralytics\u001b[0m\u001b[1;33m.\u001b[0m\u001b[0mdata\u001b[0m\u001b[1;33m.\u001b[0m\u001b[0mexplorer\u001b[0m\u001b[1;33m.\u001b[0m\u001b[0mexplorer\u001b[0m \u001b[1;32mimport\u001b[0m \u001b[0mExplorer\u001b[0m\u001b[1;33m\u001b[0m\u001b[1;33m\u001b[0m\u001b[0m\n\u001b[0m\u001b[0;32m     11\u001b[0m \u001b[1;32mfrom\u001b[0m \u001b[0multralytics\u001b[0m\u001b[1;33m.\u001b[0m\u001b[0mmodels\u001b[0m \u001b[1;32mimport\u001b[0m \u001b[0mNAS\u001b[0m\u001b[1;33m,\u001b[0m \u001b[0mRTDETR\u001b[0m\u001b[1;33m,\u001b[0m \u001b[0mSAM\u001b[0m\u001b[1;33m,\u001b[0m \u001b[0mYOLO\u001b[0m\u001b[1;33m,\u001b[0m \u001b[0mFastSAM\u001b[0m\u001b[1;33m,\u001b[0m \u001b[0mYOLOWorld\u001b[0m\u001b[1;33m\u001b[0m\u001b[1;33m\u001b[0m\u001b[0m\n\u001b[0;32m     12\u001b[0m \u001b[1;32mfrom\u001b[0m \u001b[0multralytics\u001b[0m\u001b[1;33m.\u001b[0m\u001b[0mutils\u001b[0m \u001b[1;32mimport\u001b[0m \u001b[0mASSETS\u001b[0m\u001b[1;33m,\u001b[0m \u001b[0mSETTINGS\u001b[0m\u001b[1;33m\u001b[0m\u001b[1;33m\u001b[0m\u001b[0m\n",
            "\u001b[1;32m~\\AppData\\Local\\Packages\\PythonSoftwareFoundation.Python.3.9_qbz5n2kfra8p0\\LocalCache\\local-packages\\Python39\\site-packages\\ultralytics\\data\\__init__.py\u001b[0m in \u001b[0;36m<module>\u001b[1;34m\u001b[0m\n\u001b[0;32m      1\u001b[0m \u001b[1;31m# Ultralytics YOLO 🚀, AGPL-3.0 license\u001b[0m\u001b[1;33m\u001b[0m\u001b[1;33m\u001b[0m\u001b[0m\n\u001b[0;32m      2\u001b[0m \u001b[1;33m\u001b[0m\u001b[0m\n\u001b[1;32m----> 3\u001b[1;33m \u001b[1;32mfrom\u001b[0m \u001b[1;33m.\u001b[0m\u001b[0mbase\u001b[0m \u001b[1;32mimport\u001b[0m \u001b[0mBaseDataset\u001b[0m\u001b[1;33m\u001b[0m\u001b[1;33m\u001b[0m\u001b[0m\n\u001b[0m\u001b[0;32m      4\u001b[0m \u001b[1;32mfrom\u001b[0m \u001b[1;33m.\u001b[0m\u001b[0mbuild\u001b[0m \u001b[1;32mimport\u001b[0m \u001b[0mbuild_dataloader\u001b[0m\u001b[1;33m,\u001b[0m \u001b[0mbuild_grounding\u001b[0m\u001b[1;33m,\u001b[0m \u001b[0mbuild_yolo_dataset\u001b[0m\u001b[1;33m,\u001b[0m \u001b[0mload_inference_source\u001b[0m\u001b[1;33m\u001b[0m\u001b[1;33m\u001b[0m\u001b[0m\n\u001b[0;32m      5\u001b[0m from .dataset import (\n",
            "\u001b[1;32m~\\AppData\\Local\\Packages\\PythonSoftwareFoundation.Python.3.9_qbz5n2kfra8p0\\LocalCache\\local-packages\\Python39\\site-packages\\ultralytics\\data\\base.py\u001b[0m in \u001b[0;36m<module>\u001b[1;34m\u001b[0m\n\u001b[0;32m     13\u001b[0m \u001b[1;32mimport\u001b[0m \u001b[0mnumpy\u001b[0m \u001b[1;32mas\u001b[0m \u001b[0mnp\u001b[0m\u001b[1;33m\u001b[0m\u001b[1;33m\u001b[0m\u001b[0m\n\u001b[0;32m     14\u001b[0m \u001b[1;32mimport\u001b[0m \u001b[0mpsutil\u001b[0m\u001b[1;33m\u001b[0m\u001b[1;33m\u001b[0m\u001b[0m\n\u001b[1;32m---> 15\u001b[1;33m \u001b[1;32mfrom\u001b[0m \u001b[0mtorch\u001b[0m\u001b[1;33m.\u001b[0m\u001b[0mutils\u001b[0m\u001b[1;33m.\u001b[0m\u001b[0mdata\u001b[0m \u001b[1;32mimport\u001b[0m \u001b[0mDataset\u001b[0m\u001b[1;33m\u001b[0m\u001b[1;33m\u001b[0m\u001b[0m\n\u001b[0m\u001b[0;32m     16\u001b[0m \u001b[1;33m\u001b[0m\u001b[0m\n\u001b[0;32m     17\u001b[0m \u001b[1;32mfrom\u001b[0m \u001b[0multralytics\u001b[0m\u001b[1;33m.\u001b[0m\u001b[0mdata\u001b[0m\u001b[1;33m.\u001b[0m\u001b[0mutils\u001b[0m \u001b[1;32mimport\u001b[0m \u001b[0mFORMATS_HELP_MSG\u001b[0m\u001b[1;33m,\u001b[0m \u001b[0mHELP_URL\u001b[0m\u001b[1;33m,\u001b[0m \u001b[0mIMG_FORMATS\u001b[0m\u001b[1;33m\u001b[0m\u001b[1;33m\u001b[0m\u001b[0m\n",
            "\u001b[1;32m~\\AppData\\Local\\Packages\\PythonSoftwareFoundation.Python.3.9_qbz5n2kfra8p0\\LocalCache\\local-packages\\Python39\\site-packages\\torch\\__init__.py\u001b[0m in \u001b[0;36m<module>\u001b[1;34m\u001b[0m\n\u001b[0;32m    139\u001b[0m                 \u001b[0merr\u001b[0m \u001b[1;33m=\u001b[0m \u001b[0mctypes\u001b[0m\u001b[1;33m.\u001b[0m\u001b[0mWinError\u001b[0m\u001b[1;33m(\u001b[0m\u001b[0mctypes\u001b[0m\u001b[1;33m.\u001b[0m\u001b[0mget_last_error\u001b[0m\u001b[1;33m(\u001b[0m\u001b[1;33m)\u001b[0m\u001b[1;33m)\u001b[0m\u001b[1;33m\u001b[0m\u001b[1;33m\u001b[0m\u001b[0m\n\u001b[0;32m    140\u001b[0m                 \u001b[0merr\u001b[0m\u001b[1;33m.\u001b[0m\u001b[0mstrerror\u001b[0m \u001b[1;33m+=\u001b[0m \u001b[1;34mf' Error loading \"{dll}\" or one of its dependencies.'\u001b[0m\u001b[1;33m\u001b[0m\u001b[1;33m\u001b[0m\u001b[0m\n\u001b[1;32m--> 141\u001b[1;33m                 \u001b[1;32mraise\u001b[0m \u001b[0merr\u001b[0m\u001b[1;33m\u001b[0m\u001b[1;33m\u001b[0m\u001b[0m\n\u001b[0m\u001b[0;32m    142\u001b[0m \u001b[1;33m\u001b[0m\u001b[0m\n\u001b[0;32m    143\u001b[0m     \u001b[0mkernel32\u001b[0m\u001b[1;33m.\u001b[0m\u001b[0mSetErrorMode\u001b[0m\u001b[1;33m(\u001b[0m\u001b[0mprev_error_mode\u001b[0m\u001b[1;33m)\u001b[0m\u001b[1;33m\u001b[0m\u001b[1;33m\u001b[0m\u001b[0m\n",
            "\u001b[1;31mOSError\u001b[0m: [WinError 126] The specified module could not be found. Error loading \"C:\\Users\\User\\AppData\\Local\\Packages\\PythonSoftwareFoundation.Python.3.9_qbz5n2kfra8p0\\LocalCache\\local-packages\\Python39\\site-packages\\torch\\lib\\shm.dll\" or one of its dependencies."
          ]
        }
      ],
      "source": [
        "from roboflow import Roboflow\n",
        "from ultralytics import YOLO\n",
        "\n",
        "import os\n",
        "import json\n",
        "import shutil"
      ]
    },
    {
      "cell_type": "code",
      "execution_count": 2,
      "metadata": {
        "id": "9Lm9fncz3MKo"
      },
      "outputs": [],
      "source": [
        "datasets = {\"Roboflow\": [\n",
        "        {\n",
        "            \"workspace\": \"graduationproject-t4eec\",\n",
        "            \"project\": \"old-iraq-number-plate\",\n",
        "            \"version\": 4,\n",
        "            \"format\": [\n",
        "                \"yolov8\",\n",
        "                \"\"\n",
        "            ]\n",
        "        },\n",
        "        {\n",
        "            \"workspace\": \"israa-5ugng\",\n",
        "            \"project\": \"lp-iraq\",\n",
        "            \"version\": 4,\n",
        "            \"format\": [\n",
        "                \"yolov8\",\n",
        "                \"\"\n",
        "            ]\n",
        "        },\n",
        "        #{\n",
        "        #    \"workspace\": \"iraqi-license-plates-jm4wx\",\n",
        "        #    \"project\": \"iraqi-license-plates-bqadd\",\n",
        "        #    \"version\": 1,\n",
        "        #    \"format\": [\n",
        "        #        \"yolov8\",\n",
        "        #        \"\"\n",
        "        #    ]\n",
        "        #},\n",
        "        {\n",
        "            \"workspace\": \"kanwal-masroor-gv4jr\",\n",
        "            \"project\": \"yolov7-license-plate-detection\",\n",
        "            \"version\": 3,\n",
        "            \"format\": [\n",
        "                \"yolov8\",\n",
        "                \"\"\n",
        "            ]\n",
        "        },\n",
        "        {\n",
        "           \"workspace\": \"projects-imqht\",\n",
        "            \"project\": \"project-anpr-bv7nb\",\n",
        "            \"version\": 2,\n",
        "            \"format\": [\n",
        "                \"yolov8\",\n",
        "                \"\"\n",
        "            ]\n",
        "        }\n",
        "    ],\n",
        "    \"kaggle\": []}"
      ]
    },
    {
      "cell_type": "code",
      "execution_count": null,
      "metadata": {
        "colab": {
          "base_uri": "https://localhost:8080/"
        },
        "id": "X--t7tIv8ImD",
        "outputId": "8adfc34c-6ca4-4966-eb12-1c2da5306578"
      },
      "outputs": [
        {
          "name": "stdout",
          "output_type": "stream",
          "text": [
            "PhysicalDevice(name='/physical_device:GPU:0', device_type='GPU')\n"
          ]
        }
      ],
      "source": [
        "import tensorflow as tf\n",
        "\n",
        "# Check if a GPU is available\n",
        "gpu_info = tf.config.experimental.list_physical_devices('GPU')\n",
        "if len(gpu_info) > 0:\n",
        "  # Print the GPU model\n",
        "  print(gpu_info[0])\n",
        "else:\n",
        "  print(\"No GPU available\")"
      ]
    },
    {
      "cell_type": "code",
      "execution_count": null,
      "metadata": {
        "colab": {
          "base_uri": "https://localhost:8080/"
        },
        "id": "xLzIOu5yjDHq",
        "outputId": "9510e336-2df3-46ed-c782-ffa6cde2709b"
      },
      "outputs": [
        {
          "name": "stdout",
          "output_type": "stream",
          "text": [
            "Downloading https://github.com/ultralytics/assets/releases/download/v8.2.0/yolov8n.pt to 'yolov8n.pt'...\n",
            "100% 6.23M/6.23M [00:00<00:00, 236MB/s]\n",
            "Ultralytics YOLOv8.2.27 🚀 Python-3.10.12 torch-2.3.0+cu121 CPU (Intel Xeon 2.20GHz)\n",
            "\u001b[34m\u001b[1mengine/trainer: \u001b[0mtask=detect, mode=train, model=yolov8n.pt, data=./yolov8_model.yaml, epochs=5, time=None, patience=100, batch=16, imgsz=640, save=True, save_period=-1, cache=False, device=None, workers=8, project=None, name=train, exist_ok=False, pretrained=True, optimizer=auto, verbose=True, seed=0, deterministic=True, single_cls=False, rect=False, cos_lr=False, close_mosaic=10, resume=False, amp=True, fraction=1.0, profile=False, freeze=None, multi_scale=False, overlap_mask=True, mask_ratio=4, dropout=0.0, val=True, split=val, save_json=False, save_hybrid=False, conf=None, iou=0.7, max_det=300, half=False, dnn=False, plots=True, source=None, vid_stride=1, stream_buffer=False, visualize=False, augment=False, agnostic_nms=False, classes=None, retina_masks=False, embed=None, show=False, save_frames=False, save_txt=False, save_conf=False, save_crop=False, show_labels=True, show_conf=True, show_boxes=True, line_width=None, format=torchscript, keras=False, optimize=False, int8=False, dynamic=False, simplify=False, opset=None, workspace=4, nms=False, lr0=0.01, lrf=0.01, momentum=0.937, weight_decay=0.0005, warmup_epochs=3.0, warmup_momentum=0.8, warmup_bias_lr=0.1, box=7.5, cls=0.5, dfl=1.5, pose=12.0, kobj=1.0, label_smoothing=0.0, nbs=64, hsv_h=0.015, hsv_s=0.7, hsv_v=0.4, degrees=0.0, translate=0.1, scale=0.5, shear=0.0, perspective=0.0, flipud=0.0, fliplr=0.5, bgr=0.0, mosaic=1.0, mixup=0.0, copy_paste=0.0, auto_augment=randaugment, erasing=0.4, crop_fraction=1.0, cfg=None, tracker=botsort.yaml, save_dir=runs/detect/train\n",
            "Downloading https://ultralytics.com/assets/Arial.ttf to '/root/.config/Ultralytics/Arial.ttf'...\n",
            "100% 755k/755k [00:00<00:00, 66.5MB/s]\n",
            "Overriding model.yaml nc=80 with nc=1\n",
            "\n",
            "                   from  n    params  module                                       arguments                     \n",
            "  0                  -1  1       464  ultralytics.nn.modules.conv.Conv             [3, 16, 3, 2]                 \n",
            "  1                  -1  1      4672  ultralytics.nn.modules.conv.Conv             [16, 32, 3, 2]                \n",
            "  2                  -1  1      7360  ultralytics.nn.modules.block.C2f             [32, 32, 1, True]             \n",
            "  3                  -1  1     18560  ultralytics.nn.modules.conv.Conv             [32, 64, 3, 2]                \n",
            "  4                  -1  2     49664  ultralytics.nn.modules.block.C2f             [64, 64, 2, True]             \n",
            "  5                  -1  1     73984  ultralytics.nn.modules.conv.Conv             [64, 128, 3, 2]               \n",
            "  6                  -1  2    197632  ultralytics.nn.modules.block.C2f             [128, 128, 2, True]           \n",
            "  7                  -1  1    295424  ultralytics.nn.modules.conv.Conv             [128, 256, 3, 2]              \n",
            "  8                  -1  1    460288  ultralytics.nn.modules.block.C2f             [256, 256, 1, True]           \n",
            "  9                  -1  1    164608  ultralytics.nn.modules.block.SPPF            [256, 256, 5]                 \n",
            " 10                  -1  1         0  torch.nn.modules.upsampling.Upsample         [None, 2, 'nearest']          \n",
            " 11             [-1, 6]  1         0  ultralytics.nn.modules.conv.Concat           [1]                           \n",
            " 12                  -1  1    148224  ultralytics.nn.modules.block.C2f             [384, 128, 1]                 \n",
            " 13                  -1  1         0  torch.nn.modules.upsampling.Upsample         [None, 2, 'nearest']          \n",
            " 14             [-1, 4]  1         0  ultralytics.nn.modules.conv.Concat           [1]                           \n",
            " 15                  -1  1     37248  ultralytics.nn.modules.block.C2f             [192, 64, 1]                  \n",
            " 16                  -1  1     36992  ultralytics.nn.modules.conv.Conv             [64, 64, 3, 2]                \n",
            " 17            [-1, 12]  1         0  ultralytics.nn.modules.conv.Concat           [1]                           \n",
            " 18                  -1  1    123648  ultralytics.nn.modules.block.C2f             [192, 128, 1]                 \n",
            " 19                  -1  1    147712  ultralytics.nn.modules.conv.Conv             [128, 128, 3, 2]              \n",
            " 20             [-1, 9]  1         0  ultralytics.nn.modules.conv.Concat           [1]                           \n",
            " 21                  -1  1    493056  ultralytics.nn.modules.block.C2f             [384, 256, 1]                 \n",
            " 22        [15, 18, 21]  1    751507  ultralytics.nn.modules.head.Detect           [1, [64, 128, 256]]           \n",
            "Model summary: 225 layers, 3011043 parameters, 3011027 gradients, 8.2 GFLOPs\n",
            "\n",
            "Transferred 319/355 items from pretrained weights\n",
            "\u001b[34m\u001b[1mTensorBoard: \u001b[0mStart with 'tensorboard --logdir runs/detect/train', view at http://localhost:6006/\n",
            "Freezing layer 'model.22.dfl.conv.weight'\n",
            "\u001b[34m\u001b[1mtrain: \u001b[0mScanning /content/datasets/yolov8_compiled_dataset/train/labels... 14389 images, 573 backgrounds, 0 corrupt: 100% 14389/14389 [00:08<00:00, 1761.64it/s]\n",
            "\u001b[34m\u001b[1mtrain: \u001b[0mNew cache created: /content/datasets/yolov8_compiled_dataset/train/labels.cache\n",
            "WARNING ⚠️ Box and segment counts should be equal, but got len(segments) = 6972, len(boxes) = 19074. To resolve this only boxes will be used and all segments will be removed. To avoid this please supply either a detect or segment dataset, not a detect-segment mixed dataset.\n",
            "\u001b[34m\u001b[1malbumentations: \u001b[0mBlur(p=0.01, blur_limit=(3, 7)), MedianBlur(p=0.01, blur_limit=(3, 7)), ToGray(p=0.01), CLAHE(p=0.01, clip_limit=(1, 4.0), tile_grid_size=(8, 8))\n",
            "\u001b[34m\u001b[1mval: \u001b[0mScanning /content/datasets/yolov8_compiled_dataset/valid/labels... 2035 images, 93 backgrounds, 0 corrupt: 100% 2035/2035 [00:01<00:00, 1365.38it/s]\n",
            "\u001b[34m\u001b[1mval: \u001b[0mWARNING ⚠️ /content/datasets/yolov8_compiled_dataset/valid/images/Image_15_png_jpg.rf.12d645fbc646e515e3ed9033ec0c8bc0.jpg: 1 duplicate labels removed\n",
            "\u001b[34m\u001b[1mval: \u001b[0mNew cache created: /content/datasets/yolov8_compiled_dataset/valid/labels.cache\n",
            "WARNING ⚠️ Box and segment counts should be equal, but got len(segments) = 1615, len(boxes) = 1986. To resolve this only boxes will be used and all segments will be removed. To avoid this please supply either a detect or segment dataset, not a detect-segment mixed dataset.\n",
            "Plotting labels to runs/detect/train/labels.jpg... \n",
            "\u001b[34m\u001b[1moptimizer:\u001b[0m 'optimizer=auto' found, ignoring 'lr0=0.01' and 'momentum=0.937' and determining best 'optimizer', 'lr0' and 'momentum' automatically... \n",
            "\u001b[34m\u001b[1moptimizer:\u001b[0m AdamW(lr=0.002, momentum=0.9) with parameter groups 57 weight(decay=0.0), 64 weight(decay=0.0005), 63 bias(decay=0.0)\n",
            "\u001b[34m\u001b[1mTensorBoard: \u001b[0mmodel graph visualization added ✅\n",
            "Image sizes 640 train, 640 val\n",
            "Using 0 dataloader workers\n",
            "Logging results to \u001b[1mruns/detect/train\u001b[0m\n",
            "Starting training for 5 epochs...\n",
            "\n",
            "      Epoch    GPU_mem   box_loss   cls_loss   dfl_loss  Instances       Size\n",
            "        1/5         0G      1.334      3.115      1.581         43        640:   4% 36/900 [08:04<3:03:35, 12.75s/it]"
          ]
        }
      ],
      "source": [
        "!yolo task=detect mode=train model=yolov8n.pt data=./yolov8_model.yaml epochs=5 imgsz=640"
      ]
    },
    {
      "cell_type": "code",
      "execution_count": null,
      "metadata": {
        "colab": {
          "base_uri": "https://localhost:8080/"
        },
        "id": "tp6towMUva8-",
        "outputId": "b0379ebf-06f7-4e59-9a89-ba5877868ae9"
      },
      "outputs": [
        {
          "name": "stdout",
          "output_type": "stream",
          "text": [
            "Ultralytics YOLOv8.2.27 🚀 Python-3.10.12 torch-2.3.0+cu121 CUDA:0 (Tesla T4, 15102MiB)\n",
            "Model summary (fused): 168 layers, 3006233 parameters, 0 gradients, 8.1 GFLOPs\n",
            "\u001b[34m\u001b[1mval: \u001b[0mScanning /content/datasets/valid/labels.cache... 34 images, 0 backgrounds, 0 corrupt: 100% 34/34 [00:00<?, ?it/s]\n",
            "                 Class     Images  Instances      Box(P          R      mAP50  mAP50-95): 100% 3/3 [00:04<00:00,  1.40s/it]\n",
            "                   all         34         34      0.914       0.94      0.944      0.708\n",
            "              Iraqi-LP         34         34      0.914       0.94      0.944      0.708\n",
            "Speed: 6.9ms preprocess, 24.8ms inference, 0.0ms loss, 45.3ms postprocess per image\n",
            "Results saved to \u001b[1mruns/detect/val2\u001b[0m\n",
            "💡 Learn more at https://docs.ultralytics.com/modes/val\n"
          ]
        }
      ],
      "source": [
        "!yolo task=detect mode=val model=./runs/detect/train15/weights/best.pt data=./datasets/data.yaml"
      ]
    },
    {
      "cell_type": "code",
      "execution_count": null,
      "metadata": {
        "colab": {
          "base_uri": "https://localhost:8080/"
        },
        "id": "30ph3Uq6wbXl",
        "outputId": "0dc9fc7f-bbc1-4bc4-d1bc-834b7eea989c"
      },
      "outputs": [
        {
          "name": "stdout",
          "output_type": "stream",
          "text": [
            "Ultralytics YOLOv8.2.27 🚀 Python-3.10.12 torch-2.3.0+cu121 CUDA:0 (Tesla T4, 15102MiB)\n",
            "Model summary (fused): 168 layers, 3006233 parameters, 0 gradients, 8.1 GFLOPs\n",
            "\n",
            "image 1/117 /content/lp-iraq/valid/images/19_JPG_jpg.rf.64e53db51fbc3dba7e042f699950d394.jpg: 640x640 1 Iraqi License Plates - v2 2024-02-27 10-57pm, 14.9ms\n",
            "image 2/117 /content/lp-iraq/valid/images/20_png.rf.0535e65986898931a0a04ed67f8fbb1a.jpg: 640x640 1 Iraqi-LP, 7.4ms\n",
            "image 3/117 /content/lp-iraq/valid/images/21_png.rf.92943aaed5589c9519475d6aaf3494fa.jpg: 640x640 1 Iraqi-LP, 7.4ms\n",
            "image 4/117 /content/lp-iraq/valid/images/26_jpg.rf.ead209d4d019deb3886c512d2699106f.jpg: 640x640 (no detections), 7.3ms\n",
            "image 5/117 /content/lp-iraq/valid/images/30_png.rf.1421bf4ffb3d155abf98dbc7eff04564.jpg: 640x640 1 Iraqi-LP, 7.3ms\n",
            "image 6/117 /content/lp-iraq/valid/images/31_JPG_jpg.rf.594392860db42d2353fa09d5769084c6.jpg: 640x640 1 Iraqi License Plates - v2 2024-02-27 10-57pm, 7.3ms\n",
            "image 7/117 /content/lp-iraq/valid/images/32_png.rf.49e2e374830676be53b88a721f384e2d.jpg: 640x640 1 Iraqi-LP, 7.3ms\n",
            "image 8/117 /content/lp-iraq/valid/images/34_png.rf.5ab9a875ca12268b9402e6e06e1aa5c4.jpg: 640x640 1 Iraqi-LP, 7.3ms\n",
            "image 9/117 /content/lp-iraq/valid/images/3_JPG_jpg.rf.1e3bd6316e356cb58800eb28d50e492b.jpg: 640x640 1 Iraqi License Plates - v2 2024-02-27 10-57pm, 7.3ms\n",
            "image 10/117 /content/lp-iraq/valid/images/417250373_2181063638912709_4058591655379612994_n_jpg.rf.4692051b49351746e17950a2eee1e46f.jpg: 640x640 1 Iraqi-LP, 7.3ms\n",
            "image 11/117 /content/lp-iraq/valid/images/419104669_1558076341676982_3260539758307103807_n_jpg.rf.4d9213fd6e990286f3a2bd0a30a11d01.jpg: 640x640 1 Iraqi-LP, 7.3ms\n",
            "image 12/117 /content/lp-iraq/valid/images/419208158_1062380311651247_6213265386919213869_n_jpg.rf.64951df465dd0ab6cae6de44534cd94a.jpg: 640x640 1 Iraqi-LP, 7.3ms\n",
            "image 13/117 /content/lp-iraq/valid/images/419382470_2134397313563804_412977439807758017_n_jpg.rf.96cff0dea86fec37e2216333b1b48206.jpg: 640x640 1 Iraqi-LP, 7.3ms\n",
            "image 14/117 /content/lp-iraq/valid/images/419855686_684711093818841_7307573529722869870_n_jpg.rf.09f0310532f65e6ef2a345569a8ea9ea.jpg: 640x640 (no detections), 7.3ms\n",
            "image 15/117 /content/lp-iraq/valid/images/419858245_1581404476005629_5111151562342460671_n_jpg.rf.491f81d568dc4d854205e75a3409b411.jpg: 640x640 1 Iraqi-LP, 7.3ms\n",
            "image 16/117 /content/lp-iraq/valid/images/43_png.rf.b912ebe3408f0483dc238cfc39482daa.jpg: 640x640 1 Iraqi-LP, 7.3ms\n",
            "image 17/117 /content/lp-iraq/valid/images/44_JPG_jpg.rf.75b685792a4f5a7c9690db510a07a666.jpg: 640x640 1 Iraqi License Plates - v2 2024-02-27 10-57pm, 7.3ms\n",
            "image 18/117 /content/lp-iraq/valid/images/45_png.rf.c6c41f23b035dcec044d71278e4d1308.jpg: 640x640 1 Iraqi-LP, 7.3ms\n",
            "image 19/117 /content/lp-iraq/valid/images/4_jpg.rf.c28d759ed802f5a029808068059384d1.jpg: 640x640 1 Iraqi-LP, 7.3ms\n",
            "image 20/117 /content/lp-iraq/valid/images/54_jpg.rf.8be9ca068826d755768e053e2b645d45.jpg: 640x640 1 Iraqi-LP, 7.3ms\n",
            "image 21/117 /content/lp-iraq/valid/images/57_jpg.rf.fb2b65b64df8b567923948d1b2f18a97.jpg: 640x640 1 Iraqi-LP, 8.9ms\n",
            "image 22/117 /content/lp-iraq/valid/images/59_JPG_jpg.rf.8ecac7948b5e40999c398ee4f6b67a8d.jpg: 640x640 1 Iraqi License Plates - v2 2024-02-27 10-57pm, 6.0ms\n",
            "image 23/117 /content/lp-iraq/valid/images/60_JPG_jpg.rf.11261a23804cb1660277331a241abb5f.jpg: 640x640 1 Iraqi License Plates - v2 2024-02-27 10-57pm, 5.9ms\n",
            "image 24/117 /content/lp-iraq/valid/images/61_JPG_jpg.rf.3753a80131ebf3dc20b967abf9076706.jpg: 640x640 1 Iraqi License Plates - v2 2024-02-27 10-57pm, 6.2ms\n",
            "image 25/117 /content/lp-iraq/valid/images/62_png.rf.519e376af45eb8e2dbddf3d0ff05f60b.jpg: 640x640 1 Iraqi-LP, 5.9ms\n",
            "image 26/117 /content/lp-iraq/valid/images/64_jpg.rf.3d6ce83758f418b43eff8bfdd5076a95.jpg: 640x640 1 Iraqi-LP, 6.1ms\n",
            "image 27/117 /content/lp-iraq/valid/images/69-13-_jpg.rf.1a890890644b28a29f69b460cd1b907f.jpg: 640x640 1 Iraqi-LP, 5.9ms\n",
            "image 28/117 /content/lp-iraq/valid/images/69-3-_jpg.rf.fb33f1cd52e93f0c7ba9445d147030f4.jpg: 640x640 1 Iraqi-LP, 6.0ms\n",
            "image 29/117 /content/lp-iraq/valid/images/6_JPG_jpg.rf.5db605be586c4704ddce3ef6281d810a.jpg: 640x640 1 Iraqi License Plates - v2 2024-02-27 10-57pm, 6.3ms\n",
            "image 30/117 /content/lp-iraq/valid/images/70-10-_jpg.rf.6755c8e9eed38fb10c58404b625d2ebb.jpg: 640x640 1 Iraqi-LP, 5.8ms\n",
            "image 31/117 /content/lp-iraq/valid/images/70-4-_jpg.rf.297171249814d5dcae194d7d016e2300.jpg: 640x640 1 Iraqi-LP, 5.9ms\n",
            "image 32/117 /content/lp-iraq/valid/images/7_jpg.rf.96a539789b689e0c7c040743dc32d9f9.jpg: 640x640 1 Iraqi-LP, 5.8ms\n",
            "image 33/117 /content/lp-iraq/valid/images/FB_IMG_1666326884849_jpg.rf.0fd096f5786c8c7c999f956e3e53c137.jpg: 640x640 (no detections), 5.9ms\n",
            "image 34/117 /content/lp-iraq/valid/images/FB_IMG_1666326993712_jpg.rf.8698664e11a38e26ad8d4bbab21f423a.jpg: 640x640 1 Iraqi License Plates - v2 2024-02-27 10-57pm, 5.9ms\n",
            "image 35/117 /content/lp-iraq/valid/images/FB_IMG_1666327147878_jpg.rf.36e9046eef79e8b0c1ab2424276d17e7.jpg: 640x640 1 Iraqi License Plates - v2 2024-02-27 10-57pm, 6.8ms\n",
            "image 36/117 /content/lp-iraq/valid/images/FB_IMG_1666327217318_jpg.rf.4e792ddf0cbc1d03b65eb6f1eff29634.jpg: 640x640 1 Iraqi License Plates - v2 2024-02-27 10-57pm, 7.5ms\n",
            "image 37/117 /content/lp-iraq/valid/images/FB_IMG_1666327237700_jpg.rf.be77eff4c47d46da99d4b8ec1d13744b.jpg: 640x640 1 Iraqi License Plates - v2 2024-02-27 10-57pm, 5.9ms\n",
            "image 38/117 /content/lp-iraq/valid/images/FB_IMG_1666327395037_jpg.rf.822b85da429af7adcedfd98702599dd5.jpg: 640x640 1 Iraqi License Plates - v2 2024-02-27 10-57pm, 5.8ms\n",
            "image 39/117 /content/lp-iraq/valid/images/FB_IMG_1666327526963_jpg.rf.e9b2bf0dc937ce6f78924829f6fb02e8.jpg: 640x640 1 Iraqi License Plates - v2 2024-02-27 10-57pm, 5.7ms\n",
            "image 40/117 /content/lp-iraq/valid/images/a-136-_JPG_jpg.rf.3223b1caa2a56ed70d0ca87051cd3b9b.jpg: 640x640 1 Iraqi License Plates - v2 2024-02-27 10-57pm, 6.0ms\n",
            "image 41/117 /content/lp-iraq/valid/images/a-138-_JPG_jpg.rf.84d3d3ab3f82027c8cff19a4f9a82f2a.jpg: 640x640 1 Iraqi License Plates - v2 2024-02-27 10-57pm, 6.0ms\n",
            "image 42/117 /content/lp-iraq/valid/images/a-152-_JPG_jpg.rf.7aa5d2c5c730fdddc103d0141dbb86a7.jpg: 640x640 1 Iraqi License Plates - v2 2024-02-27 10-57pm, 8.0ms\n",
            "image 43/117 /content/lp-iraq/valid/images/a-215-_JPG_jpg.rf.c7c92f77e71c492478d79067f074f789.jpg: 640x640 1 Iraqi License Plates - v2 2024-02-27 10-57pm, 10.1ms\n",
            "image 44/117 /content/lp-iraq/valid/images/a-217-_JPG_jpg.rf.60fee4c33dadd836ad6947f0a8898daf.jpg: 640x640 1 Iraqi License Plates - v2 2024-02-27 10-57pm, 6.0ms\n",
            "image 45/117 /content/lp-iraq/valid/images/a-234-_JPG_jpg.rf.e12c863434d89c1f66ec928672bc6d87.jpg: 640x640 1 Iraqi License Plates - v2 2024-02-27 10-57pm, 6.7ms\n",
            "image 46/117 /content/lp-iraq/valid/images/a-236-_JPG_jpg.rf.e28789fe136cc1627283a51da0e50c4b.jpg: 640x640 1 Iraqi License Plates - v2 2024-02-27 10-57pm, 5.9ms\n",
            "image 47/117 /content/lp-iraq/valid/images/a-268-b_JPG_jpg.rf.2ec3c82709608f87c3cc182b502aa18b.jpg: 640x640 1 Iraqi License Plates - v2 2024-02-27 10-57pm, 10.4ms\n",
            "image 48/117 /content/lp-iraq/valid/images/a-308-_JPG_jpg.rf.175872e8a3a10fa53004880a934ab49e.jpg: 640x640 1 Iraqi License Plates - v2 2024-02-27 10-57pm, 7.7ms\n",
            "image 49/117 /content/lp-iraq/valid/images/a-322-1-_JPG_jpg.rf.ed60202c0b6ba7159e27970a0e436b69.jpg: 640x640 1 Iraqi License Plates - v2 2024-02-27 10-57pm, 6.6ms\n",
            "image 50/117 /content/lp-iraq/valid/images/a-328-_JPG_jpg.rf.554ceec142248813a5eb942a68da3459.jpg: 640x640 1 Iraqi License Plates - v2 2024-02-27 10-57pm, 6.2ms\n",
            "image 51/117 /content/lp-iraq/valid/images/a-349-_JPG_jpg.rf.70a1343d29f04c5af43049f276c94bb5.jpg: 640x640 1 Iraqi License Plates - v2 2024-02-27 10-57pm, 5.9ms\n",
            "image 52/117 /content/lp-iraq/valid/images/a-351-_JPG_jpg.rf.b3a7597818154e16a1008bf8d432aca3.jpg: 640x640 1 Iraqi License Plates - v2 2024-02-27 10-57pm, 5.9ms\n",
            "image 53/117 /content/lp-iraq/valid/images/a-361-b_JPG_jpg.rf.dedf501145af48ffb5a22d09a7db2664.jpg: 640x640 1 Iraqi License Plates - v2 2024-02-27 10-57pm, 5.9ms\n",
            "image 54/117 /content/lp-iraq/valid/images/a-37-_JPG_jpg.rf.ba53f87c42183906f4a0b1d71edb2f38.jpg: 640x640 1 Iraqi License Plates - v2 2024-02-27 10-57pm, 6.8ms\n",
            "image 55/117 /content/lp-iraq/valid/images/a-374-copy-b_JPG_jpg.rf.00c832dc7201d748ad7a25d7dbb328ac.jpg: 640x640 1 Iraqi License Plates - v2 2024-02-27 10-57pm, 6.0ms\n",
            "image 56/117 /content/lp-iraq/valid/images/a-403-_JPG_jpg.rf.4fff2751a4c8fa9df35af6a0346b3874.jpg: 640x640 1 Iraqi License Plates - v2 2024-02-27 10-57pm, 5.7ms\n",
            "image 57/117 /content/lp-iraq/valid/images/a-406-_JPG_jpg.rf.4ff2e736e7f8a6701dd926442276f6db.jpg: 640x640 1 Iraqi License Plates - v2 2024-02-27 10-57pm, 5.9ms\n",
            "image 58/117 /content/lp-iraq/valid/images/a-413-_JPG_jpg.rf.a39b3616ddfd88aec2c9cea52b6c6a62.jpg: 640x640 1 Iraqi License Plates - v2 2024-02-27 10-57pm, 5.9ms\n",
            "image 59/117 /content/lp-iraq/valid/images/a-425-_JPG_jpg.rf.ada2144c1df971174ca843c2e44c674f.jpg: 640x640 1 Iraqi License Plates - v2 2024-02-27 10-57pm, 5.6ms\n",
            "image 60/117 /content/lp-iraq/valid/images/a-435-_JPG_jpg.rf.c5d9c7f3ccc5d9f867901de6f3ca7d3a.jpg: 640x640 1 Iraqi License Plates - v2 2024-02-27 10-57pm, 6.3ms\n",
            "image 61/117 /content/lp-iraq/valid/images/a-436-_JPG_jpg.rf.32e46f18f3f2b39e58d8d77beb97b7b9.jpg: 640x640 1 Iraqi License Plates - v2 2024-02-27 10-57pm, 6.0ms\n",
            "image 62/117 /content/lp-iraq/valid/images/a-467-_JPG_jpg.rf.0594c99e97b64c8ee5afc67eb650f998.jpg: 640x640 1 Iraqi License Plates - v2 2024-02-27 10-57pm, 5.9ms\n",
            "image 63/117 /content/lp-iraq/valid/images/a-469-_JPG_jpg.rf.17f5bb6bde8562a7da709cba11252607.jpg: 640x640 1 Iraqi License Plates - v2 2024-02-27 10-57pm, 6.2ms\n",
            "image 64/117 /content/lp-iraq/valid/images/a-471-_JPG_jpg.rf.32315723edcff72866082f2889c7936c.jpg: 640x640 1 Iraqi License Plates - v2 2024-02-27 10-57pm, 9.1ms\n",
            "image 65/117 /content/lp-iraq/valid/images/a-477-b_JPG_jpg.rf.e502235837886025fbef65b5c8cce43b.jpg: 640x640 1 Iraqi License Plates - v2 2024-02-27 10-57pm, 6.3ms\n",
            "image 66/117 /content/lp-iraq/valid/images/a-484-_JPG_jpg.rf.193f2d9e9a2a5b0e9b0423143fad7711.jpg: 640x640 1 Iraqi License Plates - v2 2024-02-27 10-57pm, 5.9ms\n",
            "image 67/117 /content/lp-iraq/valid/images/a-493-_JPG_jpg.rf.064cde842b114983c2de13a3f727d40a.jpg: 640x640 1 Iraqi License Plates - v2 2024-02-27 10-57pm, 6.0ms\n",
            "image 68/117 /content/lp-iraq/valid/images/a-494-_JPG_jpg.rf.d18e3034bcf66e54bd2b2eb74fff0eb2.jpg: 640x640 1 Iraqi License Plates - v2 2024-02-27 10-57pm, 6.2ms\n",
            "image 69/117 /content/lp-iraq/valid/images/a-5-_JPG_jpg.rf.72be7864722cd1a3e713dfbf3f459003.jpg: 640x640 1 Iraqi License Plates - v2 2024-02-27 10-57pm, 6.0ms\n",
            "image 70/117 /content/lp-iraq/valid/images/a-507-_JPG_jpg.rf.a0a614c1b09a454d40ff0961e8e00908.jpg: 640x640 1 Iraqi License Plates - v2 2024-02-27 10-57pm, 5.8ms\n",
            "image 71/117 /content/lp-iraq/valid/images/a-509-_JPG_jpg.rf.07e384b9c9f2bcc165b5b57f8b1ac7b8.jpg: 640x640 1 Iraqi License Plates - v2 2024-02-27 10-57pm, 6.4ms\n",
            "image 72/117 /content/lp-iraq/valid/images/a-522-_JPG_jpg.rf.ad02f4ddda76d0fda835bc8e1199d0da.jpg: 640x640 1 Iraqi License Plates - v2 2024-02-27 10-57pm, 5.9ms\n",
            "image 73/117 /content/lp-iraq/valid/images/a-524-_JPG_jpg.rf.d553e13f8b79c6143021940abb1535f1.jpg: 640x640 1 Iraqi License Plates - v2 2024-02-27 10-57pm, 6.8ms\n",
            "image 74/117 /content/lp-iraq/valid/images/a-527-_JPG_jpg.rf.0653ead8b9e2018c7fa40c943ac8d45b.jpg: 640x640 1 Iraqi License Plates - v2 2024-02-27 10-57pm, 6.2ms\n",
            "image 75/117 /content/lp-iraq/valid/images/a-528-_JPG_jpg.rf.3879ceb79c8305a83d28ba03a9ed710d.jpg: 640x640 1 Iraqi License Plates - v2 2024-02-27 10-57pm, 5.9ms\n",
            "image 76/117 /content/lp-iraq/valid/images/a-54-_JPG_jpg.rf.3ba766393a75cad988e9705647fb7a86.jpg: 640x640 1 Iraqi License Plates - v2 2024-02-27 10-57pm, 6.5ms\n",
            "image 77/117 /content/lp-iraq/valid/images/a-569-_JPG_jpg.rf.01da32d68c1d32f35123755b0928bf68.jpg: 640x640 1 Iraqi License Plates - v2 2024-02-27 10-57pm, 6.2ms\n",
            "image 78/117 /content/lp-iraq/valid/images/a-90-_JPG_jpg.rf.08e9859f84a39157ae789a46c8f6784a.jpg: 640x640 1 Iraqi License Plates - v2 2024-02-27 10-57pm, 6.8ms\n",
            "image 79/117 /content/lp-iraq/valid/images/b3_jpg.rf.136383d6a38ca1230b1a9dff44dab177.jpg: 640x640 1 Iraqi License Plates - v2 2024-02-27 10-57pm, 10.9ms\n",
            "image 80/117 /content/lp-iraq/valid/images/bz100_jpg.rf.5c24e2891d9c5fe895c5a1a459fe0597.jpg: 640x640 1 Iraqi License Plates - v2 2024-02-27 10-57pm, 8.3ms\n",
            "image 81/117 /content/lp-iraq/valid/images/bz102_jpg.rf.93a6d4e58f32fa1c03ec6f7299152cf5.jpg: 640x640 1 Iraqi License Plates - v2 2024-02-27 10-57pm, 10.5ms\n",
            "image 82/117 /content/lp-iraq/valid/images/bz105_jpg.rf.737d6b774e9cd8c4590d4b0a904e23fe.jpg: 640x640 1 Iraqi License Plates - v2 2024-02-27 10-57pm, 10.5ms\n",
            "image 83/117 /content/lp-iraq/valid/images/bz106_jpg.rf.a28152024b962929b90aa4ea7c5ed78d.jpg: 640x640 1 Iraqi License Plates - v2 2024-02-27 10-57pm, 11.6ms\n",
            "image 84/117 /content/lp-iraq/valid/images/bz110_jpg.rf.724602f42f5e1d0e2d8ef2fc22998a6d.jpg: 640x640 1 Iraqi License Plates - v2 2024-02-27 10-57pm, 10.5ms\n",
            "image 85/117 /content/lp-iraq/valid/images/bz112_jpg.rf.53a4f671bbe54bb6828ab889a8d15a7e.jpg: 640x640 1 Iraqi License Plates - v2 2024-02-27 10-57pm, 7.9ms\n",
            "image 86/117 /content/lp-iraq/valid/images/bz114_jpg.rf.cda68341749887e0ebf30473d5d4a21c.jpg: 640x640 1 Iraqi License Plates - v2 2024-02-27 10-57pm, 12.2ms\n",
            "image 87/117 /content/lp-iraq/valid/images/bz117_jpg.rf.a53a99b26b50e0885bb8a7068bf3d431.jpg: 640x640 1 Iraqi License Plates - v2 2024-02-27 10-57pm, 8.0ms\n",
            "image 88/117 /content/lp-iraq/valid/images/bz11_jpg.rf.ab1ecaa0a17e2606fb940a7936550fe3.jpg: 640x640 1 Iraqi License Plates - v2 2024-02-27 10-57pm, 7.4ms\n",
            "image 89/117 /content/lp-iraq/valid/images/bz120_jpg.rf.0c1962f6709343240ca771a6c08b613e.jpg: 640x640 1 Iraqi License Plates - v2 2024-02-27 10-57pm, 8.7ms\n",
            "image 90/117 /content/lp-iraq/valid/images/bz12_jpg.rf.f4ede2cf68871f56b0365048adda92b2.jpg: 640x640 1 Iraqi License Plates - v2 2024-02-27 10-57pm, 9.0ms\n",
            "image 91/117 /content/lp-iraq/valid/images/bz14-1-_jpg.rf.1240243c40345aa6a915dcde61d553a1.jpg: 640x640 1 Iraqi License Plates - v2 2024-02-27 10-57pm, 12.4ms\n",
            "image 92/117 /content/lp-iraq/valid/images/bz17_jpg.rf.246d95ab8975ecde642a05034d9f9797.jpg: 640x640 1 Iraqi License Plates - v2 2024-02-27 10-57pm, 8.9ms\n",
            "image 93/117 /content/lp-iraq/valid/images/bz19_jpg.rf.0aad61a9030ad42e0ba49e983e080010.jpg: 640x640 1 Iraqi License Plates - v2 2024-02-27 10-57pm, 8.7ms\n",
            "image 94/117 /content/lp-iraq/valid/images/bz20_jpg.rf.138d35c9a6c8c047e6cf7226899d35d4.jpg: 640x640 1 Iraqi License Plates - v2 2024-02-27 10-57pm, 7.9ms\n",
            "image 95/117 /content/lp-iraq/valid/images/bz22_jpg.rf.700367cfaa7a06b00c1a242c69818f9f.jpg: 640x640 1 Iraqi License Plates - v2 2024-02-27 10-57pm, 10.7ms\n",
            "image 96/117 /content/lp-iraq/valid/images/bz24_jpg.rf.10d5c428ee2b244a2a865f04a97967fe.jpg: 640x640 1 Iraqi License Plates - v2 2024-02-27 10-57pm, 8.3ms\n",
            "image 97/117 /content/lp-iraq/valid/images/bz26_jpg.rf.36b5831c6fb48f95ecf9d8e47379eac0.jpg: 640x640 1 Iraqi License Plates - v2 2024-02-27 10-57pm, 7.8ms\n",
            "image 98/117 /content/lp-iraq/valid/images/bz30_jpg.rf.30a032e43c21117127c664b752fd3449.jpg: 640x640 1 Iraqi License Plates - v2 2024-02-27 10-57pm, 7.4ms\n",
            "image 99/117 /content/lp-iraq/valid/images/bz35_jpg.rf.0b38c1bd598b9278871022116b72975c.jpg: 640x640 1 Iraqi License Plates - v2 2024-02-27 10-57pm, 7.6ms\n",
            "image 100/117 /content/lp-iraq/valid/images/bz38_jpg.rf.e0689445195cf83c0a124f62542fa720.jpg: 640x640 1 Iraqi License Plates - v2 2024-02-27 10-57pm, 7.5ms\n",
            "image 101/117 /content/lp-iraq/valid/images/bz41_jpg.rf.71a57043b7585378ba9981b3b364d637.jpg: 640x640 1 Iraqi License Plates - v2 2024-02-27 10-57pm, 10.3ms\n",
            "image 102/117 /content/lp-iraq/valid/images/bz48_jpg.rf.7501c0a710a9968cbb05b73ddce0a41c.jpg: 640x640 1 Iraqi License Plates - v2 2024-02-27 10-57pm, 7.7ms\n",
            "image 103/117 /content/lp-iraq/valid/images/bz66_jpg.rf.20d0e1d02b0143a3b2a87644045a5e03.jpg: 640x640 1 Iraqi License Plates - v2 2024-02-27 10-57pm, 7.6ms\n",
            "image 104/117 /content/lp-iraq/valid/images/bz71_jpg.rf.56cdfbbc8bb0aaa0d5516aa906b6c694.jpg: 640x640 1 Iraqi License Plates - v2 2024-02-27 10-57pm, 7.9ms\n",
            "image 105/117 /content/lp-iraq/valid/images/bz7_jpg.rf.65575b045b02025ff7b32422b0c3a50a.jpg: 640x640 1 Iraqi License Plates - v2 2024-02-27 10-57pm, 8.1ms\n",
            "image 106/117 /content/lp-iraq/valid/images/bz97_jpg.rf.5844f73980c72460e1d47666bc864046.jpg: 640x640 1 Iraqi License Plates - v2 2024-02-27 10-57pm, 7.6ms\n",
            "image 107/117 /content/lp-iraq/valid/images/bz98_jpg.rf.6f5124dfb7cab8e05f1c25a6653e334f.jpg: 640x640 1 Iraqi License Plates - v2 2024-02-27 10-57pm, 7.9ms\n",
            "image 108/117 /content/lp-iraq/valid/images/photo_2023-02-12_07-55-09_jpg.rf.6a0facd93154101dbaa2739888be65ca.jpg: 640x640 1 Iraqi License Plates - v2 2024-02-27 10-57pm, 9.6ms\n",
            "image 109/117 /content/lp-iraq/valid/images/photo_2023-02-12_07-55-32_jpg.rf.7e41531c8478992c66d6278958cca2c5.jpg: 640x640 1 Iraqi License Plates - v2 2024-02-27 10-57pm, 17.3ms\n",
            "image 110/117 /content/lp-iraq/valid/images/photo_2023-02-12_07-55-33_jpg.rf.986aa14053527e97d866400683042a64.jpg: 640x640 1 Iraqi License Plates - v2 2024-02-27 10-57pm, 11.7ms\n",
            "image 111/117 /content/lp-iraq/valid/images/photo_2023-02-12_07-55-35_jpg.rf.0009a0d9085f4e6c435c57793b3a9b22.jpg: 640x640 1 Iraqi License Plates - v2 2024-02-27 10-57pm, 8.8ms\n",
            "image 112/117 /content/lp-iraq/valid/images/photo_2023-02-12_07-55-58_jpg.rf.d946dcd5eb6ac3f3b390fa3dc8e762d6.jpg: 640x640 1 Iraqi License Plates - v2 2024-02-27 10-57pm, 10.1ms\n",
            "image 113/117 /content/lp-iraq/valid/images/photo_2023-02-12_07-56-02_jpg.rf.014fa2b0acaa574b946ef81447df2c84.jpg: 640x640 1 Iraqi License Plates - v2 2024-02-27 10-57pm, 12.2ms\n",
            "image 114/117 /content/lp-iraq/valid/images/photo_2023-02-12_07-56-03_jpg.rf.05ecd0361d55688b8833d8bb7291e786.jpg: 640x640 1 Iraqi License Plates - v2 2024-02-27 10-57pm, 8.8ms\n",
            "image 115/117 /content/lp-iraq/valid/images/photo_2023-02-12_07-56-12_jpg.rf.4781b2e67e86467875a258eb5d0eb25a.jpg: 640x640 1 Iraqi License Plates - v2 2024-02-27 10-57pm, 8.4ms\n",
            "image 116/117 /content/lp-iraq/valid/images/photo_2023-02-12_07-56-24_jpg.rf.bf4d241dc37741dd84a60b5605abf47a.jpg: 640x640 1 Iraqi License Plates - v2 2024-02-27 10-57pm, 10.2ms\n",
            "image 117/117 /content/lp-iraq/valid/images/photo_2023-02-12_07-56-41_jpg.rf.00bcaf0a2c134c79f19de7ad462e33ac.jpg: 640x640 1 Iraqi License Plates - v2 2024-02-27 10-57pm, 8.1ms\n",
            "Speed: 2.5ms preprocess, 7.6ms inference, 14.4ms postprocess per image at shape (1, 3, 640, 640)\n",
            "Results saved to \u001b[1mruns/detect/predict3\u001b[0m\n",
            "💡 Learn more at https://docs.ultralytics.com/modes/predict\n"
          ]
        }
      ],
      "source": [
        "!yolo task=detect mode=predict model=./runs/detect/train15/weights/best.pt conf=0.5 source=./lp-iraq/valid/images"
      ]
    }
  ],
  "metadata": {
    "accelerator": "TPU",
    "colab": {
      "gpuType": "V28",
      "provenance": []
    },
    "kernelspec": {
      "display_name": "Python 3",
      "name": "python3"
    },
    "language_info": {
      "codemirror_mode": {
        "name": "ipython",
        "version": 3
      },
      "file_extension": ".py",
      "mimetype": "text/x-python",
      "name": "python",
      "nbconvert_exporter": "python",
      "pygments_lexer": "ipython3",
      "version": "3.9.13"
    }
  },
  "nbformat": 4,
  "nbformat_minor": 0
}
